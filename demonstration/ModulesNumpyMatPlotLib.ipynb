{
 "metadata": {
  "name": "",
  "signature": "sha256:cfa8a17cee8d1fccb8ebe123d0344f90511600c4bdcc066910aeb8f2c1d65a5d"
 },
 "nbformat": 3,
 "nbformat_minor": 0,
 "worksheets": [
  {
   "cells": [
    {
     "cell_type": "heading",
     "level": 1,
     "metadata": {},
     "source": [
      "Exceptions"
     ]
    },
    {
     "cell_type": "markdown",
     "metadata": {},
     "source": [
      "The weak variable typing model that Python implements provides substantial flexibility at runtime. However, problems can arise when functions or class methods expect parameters to be of a particular type and different type is passed. If the function or method attempts to invoke methods that are provided to the expected type, but are not supported by the type that was passed, then the Python interpreter will generate (or __*raise*__) a __*runtime exception*__.\n",
      "\n",
      "Concretely, exceptions are implemented in Python as __instances of particular classes__. The specific class that is instantiated when an exception is generated depends upon the nature of the runtime error.\n",
      "\n",
      "For example, Python's `tuple` type is immutable and does not support modification of its elements. If a function expected a `list`-type variable as its argument and attempts to modify the list elements, passing a tuple will cause an exception to be generated. "
     ]
    },
    {
     "cell_type": "code",
     "collapsed": false,
     "input": [
      "# A somewhat contrived function that requires a mutable sequence of string-types\n",
      "# to be passed as its argument in order to function correctly.\n",
      "def giveMeAListOfStrings(shouldBeAListOfStrings) :\n",
      "    for index in range(0, len(shouldBeAListOfStrings)) :\n",
      "        # 1) The use of the \"+\" operator in the subsequent statement requires\n",
      "        # that the sequence elements should be strings.\n",
      "        # 2) The use of the assignment operator \"=\" in conjunction with the \n",
      "        # indexing operator \"[]\" assumes that the sequence is mutable.\n",
      "        shouldBeAListOfStrings[index] = shouldBeAListOfStrings[index] + \"Modified\"\n",
      "\n",
      "# Declare and initialize a list of strings (recall that lists are mutable)\n",
      "iAmAList = [\"originalist\", \"originalList\", \"originalList\"]\n",
      "# Declare and initialize a tuple of strings (recall that lists are immutable)\n",
      "iAmATuple = (\"originalTuple\", \"originalTuple\", \"originalTuple\")\n",
      "\n",
      "# Print the values of the initialized list and tuple\n",
      "print \"iAmAList => \", iAmAList\n",
      "print \"iAmATuple => \", iAmATuple\n",
      "\n",
      "# Attempt to call giveMeAListOfStrings, providing a list of strings\n",
      "# Success is expected.\n",
      "print \"Calling: giveMeAListOfStrings(iAmAList)...\"\n",
      "giveMeAListOfStrings(iAmAList)\n",
      "\n",
      "# Print the values of the list after the call to giveMeAListOfStrings()\n",
      "print \"iAmAList => \", iAmAList\n",
      "\n",
      "# Attempt to call giveMeAListOfStrings, providing a tuple of strings\n",
      "# An EXCEPTION is expected.\n",
      "print \"Calling: giveMeAListOfStrings(iAmATuple)...\"\n",
      "giveMeAListOfStrings(iAmATuple)\n",
      "\n",
      "# Print the values of the tuple after the call to giveMeAListOfStrings()\n",
      "# This statement should not be executed.\n",
      "print \"iAmATuple => \", iAmATuple"
     ],
     "language": "python",
     "metadata": {},
     "outputs": [
      {
       "output_type": "stream",
       "stream": "stdout",
       "text": [
        "iAmAList =>  ['originalist', 'originalList', 'originalList']\n",
        "iAmATuple =>  ('originalTuple', 'originalTuple', 'originalTuple')\n",
        "Calling: giveMeAListOfStrings(iAmAList)...\n",
        "iAmAList =>  ['originalistModified', 'originalListModified', 'originalListModified']\n",
        "Calling: giveMeAListOfStrings(iAmATuple)...\n"
       ]
      },
      {
       "ename": "TypeError",
       "evalue": "'tuple' object does not support item assignment",
       "output_type": "pyerr",
       "traceback": [
        "\u001b[1;31m---------------------------------------------------------------------------\u001b[0m\n\u001b[1;31mTypeError\u001b[0m                                 Traceback (most recent call last)",
        "\u001b[1;32m<ipython-input-28-df9ce0fd3fd3>\u001b[0m in \u001b[0;36m<module>\u001b[1;34m()\u001b[0m\n\u001b[0;32m     29\u001b[0m \u001b[1;31m# An EXCEPTION is expected.\u001b[0m\u001b[1;33m\u001b[0m\u001b[1;33m\u001b[0m\u001b[0m\n\u001b[0;32m     30\u001b[0m \u001b[1;32mprint\u001b[0m \u001b[1;34m\"Calling: giveMeAListOfStrings(iAmATuple)...\"\u001b[0m\u001b[1;33m\u001b[0m\u001b[0m\n\u001b[1;32m---> 31\u001b[1;33m \u001b[0mgiveMeAListOfStrings\u001b[0m\u001b[1;33m(\u001b[0m\u001b[0miAmATuple\u001b[0m\u001b[1;33m)\u001b[0m\u001b[1;33m\u001b[0m\u001b[0m\n\u001b[0m\u001b[0;32m     32\u001b[0m \u001b[1;33m\u001b[0m\u001b[0m\n\u001b[0;32m     33\u001b[0m \u001b[1;31m# Print the values of the tuple after the call to giveMeAListOfStrings()\u001b[0m\u001b[1;33m\u001b[0m\u001b[1;33m\u001b[0m\u001b[0m\n",
        "\u001b[1;32m<ipython-input-28-df9ce0fd3fd3>\u001b[0m in \u001b[0;36mgiveMeAListOfStrings\u001b[1;34m(shouldBeAListOfStrings)\u001b[0m\n\u001b[0;32m      7\u001b[0m         \u001b[1;31m# 2) The use of the assignment operator \"=\" in conjunction with the\u001b[0m\u001b[1;33m\u001b[0m\u001b[1;33m\u001b[0m\u001b[0m\n\u001b[0;32m      8\u001b[0m         \u001b[1;31m# indexing operator \"[]\" assumes that the sequence is mutable.\u001b[0m\u001b[1;33m\u001b[0m\u001b[1;33m\u001b[0m\u001b[0m\n\u001b[1;32m----> 9\u001b[1;33m         \u001b[0mshouldBeAListOfStrings\u001b[0m\u001b[1;33m[\u001b[0m\u001b[0mindex\u001b[0m\u001b[1;33m]\u001b[0m \u001b[1;33m=\u001b[0m \u001b[0mshouldBeAListOfStrings\u001b[0m\u001b[1;33m[\u001b[0m\u001b[0mindex\u001b[0m\u001b[1;33m]\u001b[0m \u001b[1;33m+\u001b[0m \u001b[1;34m\"Modified\"\u001b[0m\u001b[1;33m\u001b[0m\u001b[0m\n\u001b[0m\u001b[0;32m     10\u001b[0m \u001b[1;33m\u001b[0m\u001b[0m\n\u001b[0;32m     11\u001b[0m \u001b[1;31m# Declare and initialize a list of strings (recall that lists are mutable)\u001b[0m\u001b[1;33m\u001b[0m\u001b[1;33m\u001b[0m\u001b[0m\n",
        "\u001b[1;31mTypeError\u001b[0m: 'tuple' object does not support item assignment"
       ]
      }
     ],
     "prompt_number": 28
    },
    {
     "cell_type": "markdown",
     "metadata": {},
     "source": [
      "The attempt to call `giveMeAListOfStrings(iAmATuple)` was not successful and generated an error report (or __*traceback*__) that indicates the sequence of program-execution events that resulted in the generation of an exception, indicating the lines of source code containing the erroneous statements. The first and final lines of the traceback report the __type__ of the exception. In this case the exception is an __instance__ of the `TypeError` __class__. The `TypeError` provides a member datum called `message`, which is helpfully printed on the final line of the traceback and gives more details about the error that generated the exception.\n",
      "\n",
      "Although the traceback provides useful information to __diagnose__ problems in Python source code, it also __terminates program execution__ (the final `print` statement is never executed). This is somewhat annoying if it occurs after a particularly computationally intensive calculation has been executing for several hours!\n",
      "\n",
      "Fortunately, Python provides a mechanism for programatically reacting to the generation of runtime exceptions, that __*may*__ enable program execution to continue. This mechanism is called __*Exception Handling*__."
     ]
    },
    {
     "cell_type": "heading",
     "level": 2,
     "metadata": {},
     "source": [
      "Exception Handling"
     ]
    },
    {
     "cell_type": "markdown",
     "metadata": {},
     "source": [
      "If your code includes statements that you believe may raise a runtime exception you should enclose them within a special type of __code block__ called a __`try`__ block. A `try` block begins with the keyword `try` followed by a \"`:`\" character.\n",
      "\n",
      "The `try` block should be immediately followed by __at least one__ other special __code block__ called an __`except`__ block. \n",
      "\n",
      "* An `except` block should contain code that reacts to (or __*handles*__) specific exceptions that are generated at runtime.\n",
      "* An `except` block begins with an expression comprising:\n",
      "    1. The keyword __`except`__  \n",
      "    2. __OPTIONAL__: __Either__ a single *type specifier* (e.g `(TypeError)`),  __or__ a parenthesized `tuple` of *type specifiers* (e.g. `(TypeError, NameError, RuntimeError)`) defining the __types of exception__ that the code within the `except` block is able to react to. \n",
      "    4. __OPTIONAL__: The keyword __`as`__, followed by an identifier that can be used within the `except` block to refer to the __instance__ of the exception that was generated when the runtime error occured. \n",
      "    5. A colon (\"`:`\") character.\n",
      "* If __different strategies__ are required to handle __different types of exception__, then multiple `except` blocks with __different__ *type specifiers* can be provided after the initial `try` block.\n",
      "* If __no *type specifier*__ is provided, the `except` block will attempt to handle __all__ types of exception. Such \"__universal__\" `except` blocks are typically defined __after__ all other more exception-type-specific `except` blocks to handle unexpected exception types."
     ]
    },
    {
     "cell_type": "code",
     "collapsed": false,
     "input": [
      "# The giveMeAListOfStrings() function might raise an exception.\n",
      "# Begin a try block to enclose its invocation.\n",
      "try :\n",
      "    # Attempt to call giveMeAListOfStrings, providing a tuple of strings\n",
      "    # A TypeError exception is expected.\n",
      "    print \"Calling: giveMeAListOfStrings(iAmATuple)...\"\n",
      "    giveMeAListOfStrings(iAmATuple)\n",
      "# Begin an except block that can handle a TypeError exception and \n",
      "# makes the instance of the exception accessible using the \"typeError\"\n",
      "# identifier.\n",
      "except TypeError as typeError:\n",
      "    # Inform the user that a TypeError was generated \n",
      "    print \"A TypeError exception was raised.\"\n",
      "    # Print additional details that are stored in the \"message\"\n",
      "    # member datum of \"typeError\" instance the TypeError class.\n",
      "    print \"TypeError message => \", typeError.message\n",
      "# Begin a \"universal\" except block that will attempt to handle all \n",
      "# exceptions that are not instances of the TypeError class.\n",
      "except :\n",
      "    print \"Unexpected error! Panic!\""
     ],
     "language": "python",
     "metadata": {},
     "outputs": [
      {
       "output_type": "stream",
       "stream": "stdout",
       "text": [
        "Calling: giveMeAListOfStrings(iAmATuple)...\n",
        "A TypeError exception was raised.\n",
        "TypeError message =>  'tuple' object does not support item assignment\n"
       ]
      }
     ],
     "prompt_number": 29
    },
    {
     "cell_type": "heading",
     "level": 2,
     "metadata": {},
     "source": [
      "More Information"
     ]
    },
    {
     "cell_type": "markdown",
     "metadata": {},
     "source": [
      "__More information__ about exception handling in Python can be found in the [Errors and Exceptions](https://docs.python.org/2/tutorial/errors.html) section of the [Python Online Tutorial](https://docs.python.org/2/tutorial/index.html)."
     ]
    },
    {
     "cell_type": "heading",
     "level": 1,
     "metadata": {},
     "source": [
      "List Comprehension"
     ]
    },
    {
     "cell_type": "markdown",
     "metadata": {},
     "source": [
      "The Python language supports a very useful, __*List Comprehension*__ syntax that enables `list`-type sequences to be populated with elements that are iteratively generated using an __arbitrary__ Python expression.\n",
      "\n",
      "Python list comprehensions (or \"__*listcomps*__\") replicate the functionality of complicated, __multiply nested__ `for`-loop constructions (with optional __conditional execution__) using a __highly compact syntax__ with substantially __enhanced computational efficiency__.\n",
      "\n",
      "Consider the following system of three nested for loops that populates a list of integer values."
     ]
    },
    {
     "cell_type": "code",
     "collapsed": false,
     "input": [
      "# Declare and initialize an empty list to be poulated with \n",
      "# computed tuple values.\n",
      "listOfTuples = []\n",
      "print \"listOfTuples => \", listOfTuples\n",
      "\n",
      "# A complicated system of nested for-loops with if-statements\n",
      "# controlling the execution of deeper nesting levels\n",
      "for i in range(0, 5) :                                    # <for clause 1> \n",
      "    if i > 1:                                             # <if clause 1>\n",
      "        for j in range(0, 5) :                            # <for clause 2>\n",
      "            if j > 2 :                                    # <if clause 2>\n",
      "                for k in range(0, 5) :                    # <for clause 3>\n",
      "                    if k > 3 :                            # <if clause 3>\n",
      "                        listOfTuples.append((i, j, k))    # append(<argument expression>) method call\n",
      "\n",
      "print \"listOfTuples => \", listOfTuples"
     ],
     "language": "python",
     "metadata": {},
     "outputs": []
    },
    {
     "cell_type": "markdown",
     "metadata": {},
     "source": [
      "The __same result__ can also be achieved using a list comprehension. The list comprehension syntax that is required to achieve this comprises several subexpressions that are __enclosed between square brackets__ \"`[]`\". \n",
      "\n",
      "1. The __first__ subexpression __must__ evaluate __equivalent__ to the __argument__ that was passed to the `append()` method call in the previous example.\n",
      "2. The __subsequent__ subexpressions __must__ be __equivalent__ to the `for` and `if` clauses of the __nested__ `for`-loops and `if`-blocks (__without__ the trailing \"`:`\" characters), listed __in order__, beginning with the outermost `for` clause and ending with the most deeply nested `if` clause. "
     ]
    },
    {
     "cell_type": "code",
     "collapsed": false,
     "input": [
      "# Reset the contents of listOfTuples\n",
      "listOfTuples = []\n",
      "print \"listOfTuples => \", listOfTuples\n",
      "\n",
      "# Use a list comprehesion to repopulate the listOfTuples with \n",
      "# the same values that were generated by the nested for loops.\n",
      "# With reference to the comments in the previous example, the \n",
      "# required list comprehension syntax is:\n",
      "# [ <argument expression> <for clause 1> <if clause 1> <for clause 2> <if clause 2> <for clause 3> <if clause 3>]\n",
      "listOfTuples = [ (i, j, k) for i in range(0, 5) if i > 1 for j in range(0, 5) if j > 2 for k in range(0, 5) if k > 3 ]\n",
      "print \"listOfTuples => \", listOfTuples"
     ],
     "language": "python",
     "metadata": {},
     "outputs": [
      {
       "output_type": "stream",
       "stream": "stdout",
       "text": [
        "listOfTuples =>  []\n",
        "listOfTuples =>  [(2, 3, 4), (2, 4, 4), (3, 3, 4), (3, 4, 4), (4, 3, 4), (4, 4, 4)]\n"
       ]
      }
     ],
     "prompt_number": 30
    },
    {
     "cell_type": "heading",
     "level": 2,
     "metadata": {},
     "source": [
      "Efficiency"
     ]
    },
    {
     "cell_type": "markdown",
     "metadata": {},
     "source": [
      "For computationally intensive applications, the use of list comprehensions is preferred over equivalent nested `for`-loop structures because the former can be far more efficient.\n",
      "\n",
      "Recall that Python is an __interpreted__ programming language. The Python interpreter must perform __computationally expensive__ operations to evaluate and execute each statement as it is parsed from the source code. In particular, when evaluating statements, the interpreter must account for the value and type assignment of each identifier it encounters. The weak variable typing model that Python adopts means that the proper interpretation of a given identifier can change between statements and even between successive executions of __the same__ statement!\n",
      "\n",
      "Accordingly, the entire bodies of normal Python `for` loops are __reinterpreted__ during __every loop iteration__. In contrast, the \"body\" of a list comprehension is only interpreted once (when it is first encountered by the interpreter) and simply invoked repeatedy. This results in substantially enhanced computational efficiency."
     ]
    },
    {
     "cell_type": "heading",
     "level": 2,
     "metadata": {},
     "source": [
      "More Information"
     ]
    },
    {
     "cell_type": "markdown",
     "metadata": {},
     "source": [
      "More information about Python list comprehensions in the [List Comprehensions](https://docs.python.org/2/tutorial/datastructures.html#list-comprehensions) section of the [Python Online Tutorial](https://docs.python.org/2/tutorial/index.html)."
     ]
    },
    {
     "cell_type": "heading",
     "level": 1,
     "metadata": {},
     "source": [
      "Python Modules"
     ]
    },
    {
     "cell_type": "markdown",
     "metadata": {},
     "source": [
      "Python uses __*Modules*__ to enable straightforward code reuse (See the [Modules](https://docs.python.org/2/tutorial/modules.html) section from the online [Python Tutorial](https://docs.python.org/2/tutorial/index.html) for more details). \n",
      "\n",
      "__Creating__ a Python module can be as simple as writing Python code that defines an ensemble of Python entitities (e.g. _functions_, _variables_ and _classes_) and saving that code to a file with the suffix \"`.py`\". The \"__*name*__\" of the module (i.e. the __identifier__ that can be used to refer to the module in Python code) equates to the file name without the \"`.py`\" suffix."
     ]
    },
    {
     "cell_type": "heading",
     "level": 2,
     "metadata": {},
     "source": [
      "Importing Modules"
     ]
    },
    {
     "cell_type": "markdown",
     "metadata": {},
     "source": [
      "Access to the entities (called __*symbols*__) that are defined within a Python module can be achieved using the `import` keyword. The simplest possible useage comprises the keyword `import` followed by the module _name_ e.g. "
     ]
    },
    {
     "cell_type": "code",
     "collapsed": false,
     "input": [
      "# Import the Python entities that are defined within the \"sys\" module\n",
      "# These entities enable access to and manipulation of various properties\n",
      "# of the operating system and the Python interpreter.\n",
      "import sys"
     ],
     "language": "python",
     "metadata": {},
     "outputs": []
    },
    {
     "cell_type": "heading",
     "level": 2,
     "metadata": {},
     "source": [
      "Listing Module Symbols"
     ]
    },
    {
     "cell_type": "markdown",
     "metadata": {},
     "source": [
      "To obtain a list of the symbols that are defined by a module, use the `dir()` function e.g."
     ]
    },
    {
     "cell_type": "code",
     "collapsed": false,
     "input": [
      "# Print a list of the symbols that are defined by the \"sys\" module\n",
      "print dir(sys)"
     ],
     "language": "python",
     "metadata": {},
     "outputs": []
    },
    {
     "cell_type": "heading",
     "level": 2,
     "metadata": {},
     "source": [
      "Accessing Module Symbols"
     ]
    },
    {
     "cell_type": "markdown",
     "metadata": {},
     "source": [
      "Once a module has been `import`ed, its _name_ can be used in conjuntion with the \"`.`\" operator to access the symbols that it defines e.g."
     ]
    },
    {
     "cell_type": "code",
     "collapsed": false,
     "input": [
      "# Print the \"copyright\" symbol that is defined by the \"sys\" module\n",
      "# This is achieved using the \".\" operator\n",
      "print sys.copyright"
     ],
     "language": "python",
     "metadata": {},
     "outputs": []
    },
    {
     "cell_type": "heading",
     "level": 2,
     "metadata": {},
     "source": [
      "Importing Module Symbols for Direct Access"
     ]
    },
    {
     "cell_type": "markdown",
     "metadata": {},
     "source": [
      "The symbols that are defined within a given module can also be __directly__ `import`ed into the local scope (also called the __local namespace__ in Python parlance), which enables their identifiers to be used __without explicit qualification__ using the \"`.`\" operator. The syntax to achieve this comprises four tokens.\n",
      "1. The keyword `from`.\n",
      "2. The __module__ _name_.\n",
      "3. The keyword `import`.\n",
      "4. The __symbol__ _name_."
     ]
    },
    {
     "cell_type": "code",
     "collapsed": false,
     "input": [
      "# Import the \"version\" symbol from the sys module directly into\n",
      "# the local scope (namespace).\n",
      "from sys import version\n",
      "# The version symbol can now be used without explicit qualification\n",
      "print version"
     ],
     "language": "python",
     "metadata": {},
     "outputs": []
    },
    {
     "cell_type": "heading",
     "level": 2,
     "metadata": {},
     "source": [
      "Importing _All_ Symbols from a Module"
     ]
    },
    {
     "cell_type": "markdown",
     "metadata": {},
     "source": [
      "It is also possible to `import` __all__ symbols from a module using the \"`*`\" token in place of a specific symbol name. __Be aware__ that it might not be desirable to do this. If a module defines a symbol with the same identifier as a variable that has already been declared in the local namespace, __the original variable will be replaced__."
     ]
    },
    {
     "cell_type": "code",
     "collapsed": false,
     "input": [
      "# Define a variable called \"long_info\" in the local scope.\n",
      "long_info = \"A long time ago in a galaxy far, far away...\"\n",
      "\n",
      "# Print the value of long_info\n",
      "print \"Before import => \", long_info\n",
      "\n",
      "# Import all symbols from the sys module directly into the\n",
      "# local namespace.\n",
      "# NOTE that this will result in the locally declared variable\n",
      "# \"long_info\" being replaced by the similarly named symbol that \n",
      "# is defined by the \"sys\" module.\n",
      "from sys import *\n",
      "\n",
      "# Print the value of \"long_info\" again. The variable has been\n",
      "# replaced by the \"long_info\" symbol defined by the \"sys\" module.\n",
      "# NOTE that the \"long_info\" symbol has not been explicitly imported.\n",
      "print \"After import => \", long_info"
     ],
     "language": "python",
     "metadata": {},
     "outputs": []
    },
    {
     "cell_type": "heading",
     "level": 2,
     "metadata": {},
     "source": [
      "Importing Modules Under an Alias"
     ]
    },
    {
     "cell_type": "markdown",
     "metadata": {},
     "source": [
      "If the name of a module is inconvenient (e.g. it replicates the name of another module, or is simply cumbersome to type) then it can be imported under an __alias__. The alias can then be used in an __identical__ manner to the original module name. The syntax that is required to achieve this comprises four tokens.\n",
      "1. The keyword `import`.\n",
      "2. The __original__ module _name_.\n",
      "3. The keyword `as`.\n",
      "4. The desired __alias__."
     ]
    },
    {
     "cell_type": "code",
     "collapsed": false,
     "input": [
      "# Import the \"random\" Python module that provides random number \n",
      "# generation functionality under the alias \"ran\"\n",
      "import random as ran\n",
      "\n",
      "# Print the list of symbols that are defined by the \"random\" module\n",
      "# using the aliased \"ran\" identifier.\n",
      "print \"Aliased random =>\", dir(ran)\n",
      "\n",
      "# Generate and print some uniformly distributed random numbers using\n",
      "# the \"uniform\" symbol that is defined by the \"random\" module.\n",
      "# Access the symbol using the \"ran\" alias and the \".\" operator.\n",
      "for i in range(0, 10) : \n",
      "    # The uniform() function generates uniformly distributed random \n",
      "    # floating-point numbers between 0.0 and 1.0\n",
      "    randomNumber = ran.uniform(0.0, 1.0)\n",
      "    print i, \"=>\", randomNumber"
     ],
     "language": "python",
     "metadata": {},
     "outputs": []
    },
    {
     "cell_type": "heading",
     "level": 2,
     "metadata": {},
     "source": [
      "Searching for Modules: `sys.path` and the `PYTHONPATH` Environment Variable"
     ]
    },
    {
     "cell_type": "markdown",
     "metadata": {},
     "source": [
      "Upon encountering a statement involving the `import` keyword, the Python interpreter will __search a Python `list` of file-system paths__ that can be accessed using the __`path`__ symbol that is defined in the __`sys`__ module. This list is __initialized__ when the interpreter is launched using a list of paths that are specified by the environment variable with the identifier __`PYTHONPATH`__. Additional paths can be appended to __`sys.path`__ at program runtime."
     ]
    },
    {
     "cell_type": "code",
     "collapsed": false,
     "input": [
      "# Print the list of paths that the Python interpreter searches\n",
      "# for modules when it encounters an import statement.\n",
      "# NOTE that \"sys\" has already been imported in a earlier cell.\n",
      "print \"sys.path => \", sys.path"
     ],
     "language": "python",
     "metadata": {},
     "outputs": []
    },
    {
     "cell_type": "heading",
     "level": 1,
     "metadata": {},
     "source": [
      "NumPy"
     ]
    },
    {
     "cell_type": "markdown",
     "metadata": {},
     "source": [
      "The __*NumPy*__ package provides __invaluable__ data-handling support for numerous __scientifically targeted__ Python modules. Its primary functionality is the provision of a __homogeneous__ multidimensional __`array`__ type (in fact, __`array`__ is provided as a helpful synonym for __`ndarray`__) that supports indexing, slicing and reshaping as well __highly efficient array-wise mathematical operations__ i.e. mathematical operations can be performed on whole multidimensional arrays __without__ the need for explicit loops."
     ]
    },
    {
     "cell_type": "heading",
     "level": 2,
     "metadata": {},
     "source": [
      "Importing Numpy"
     ]
    },
    {
     "cell_type": "markdown",
     "metadata": {},
     "source": [
      "To use the functionality that is provided by the *NumPy* package, the __`numpy`__ module must be imported."
     ]
    },
    {
     "cell_type": "code",
     "collapsed": false,
     "input": [
      "import numpy"
     ],
     "language": "python",
     "metadata": {},
     "outputs": [],
     "prompt_number": 2
    },
    {
     "cell_type": "heading",
     "level": 2,
     "metadata": {},
     "source": [
      "Instantiating `numpy.array`s"
     ]
    },
    {
     "cell_type": "markdown",
     "metadata": {},
     "source": [
      "The `array` type that is provided by NumPy can provides several constructors. For example, it is possible initialize the `array` data using the values contained by a preexisting Python sequence type.\n",
      "\n",
      "__Numpy `array`s are homogeneous data containers and may only contain elements with the *same type*__. Accordingly, the preexisting Python sequence type that is used to initialize a `numpy.array` may __not__ contain elements with different types.  "
     ]
    },
    {
     "cell_type": "code",
     "collapsed": false,
     "input": [
      "# Declare and initialize a Python list of integer values\n",
      "pythonList = [ 0, 1, 2, 3 ]\n",
      "print \"pythonList =>\", pythonList, \":\", type(pythonList)\n",
      "\n",
      "# Declare and initialize a Numpy array using the values from\n",
      "# the Python list\n",
      "numpyArray = numpy.array(pythonList)\n",
      "print \"numpyArray =>\", numpyArray, \":\", type(numpyArray)"
     ],
     "language": "python",
     "metadata": {},
     "outputs": [
      {
       "output_type": "stream",
       "stream": "stdout",
       "text": [
        "pythonList => [0, 1, 2, 3] : <type 'list'>\n",
        "numpyArray => [0 1 2 3] : <type 'numpy.ndarray'>\n"
       ]
      }
     ],
     "prompt_number": 3
    },
    {
     "cell_type": "markdown",
     "metadata": {},
     "source": [
      "__List comprehensions__ can also be used directly to initialize `numpy.array` types"
     ]
    },
    {
     "cell_type": "code",
     "collapsed": false,
     "input": [
      "# Use a list comprehension to initialize a numpy.array to contain the \n",
      "# squares of the first ten natural numbers.\n",
      "squareNaturalsArray = numpy.array([x**2 for x in range(1, 11)])\n",
      "print \"squareNaturalsArray =>\", squareNaturalsArray, \":\", type(squareNaturalsArray)"
     ],
     "language": "python",
     "metadata": {},
     "outputs": [
      {
       "output_type": "stream",
       "stream": "stdout",
       "text": [
        "squareNaturalsArray => [  1   4   9  16  25  36  49  64  81 100] : <type 'numpy.ndarray'>\n"
       ]
      }
     ],
     "prompt_number": 4
    },
    {
     "cell_type": "heading",
     "level": 2,
     "metadata": {},
     "source": [
      "Array-wise mathematical operations"
     ]
    },
    {
     "cell_type": "markdown",
     "metadata": {},
     "source": [
      "The `numpy` module provides mathemetical functions that can be applied to entire `numpy.array`'s at once."
     ]
    },
    {
     "cell_type": "code",
     "collapsed": false,
     "input": [
      "# Apply the NumPy sqrt function to the whole squareNaturalsArray\n",
      "# in order to obtain a numpy.array that contains the first ten\n",
      "# natural numbers\n",
      "naturalsArray = numpy.sqrt(squareNaturalsArray)\n",
      "\n",
      "# Print the elements of naturalsArray. NOTE that the numpy.sqrt() \n",
      "# function has produced an array of float-type values.\n",
      "print \"naturalsArray =>\", naturalsArray, \":\", type(naturalsArray)\n",
      "\n",
      "# Simple mathematical operations using combinations of\n",
      "# Python's built-in numeric types and numpy.arrays are \n",
      "# also supported.\n",
      "twiceNaturalsArray = 2 * naturalsArray\n",
      "print \"twiceNaturalsArray =>\", twiceNaturalsArray, \":\", type(twiceNaturalsArray)\n",
      "\n",
      "thriceNaturalsArray = naturalsArray + twiceNaturalsArray\n",
      "print \"thriceNaturalsArray =>\", thriceNaturalsArray, \":\", type(thriceNaturalsArray)"
     ],
     "language": "python",
     "metadata": {},
     "outputs": [
      {
       "output_type": "stream",
       "stream": "stdout",
       "text": [
        "naturalsArray => [  1.   2.   3.   4.   5.   6.   7.   8.   9.  10.] : <type 'numpy.ndarray'>\n",
        "twiceNaturalsArray => [  2.   4.   6.   8.  10.  12.  14.  16.  18.  20.] : <type 'numpy.ndarray'>\n",
        "thriceNaturalsArray => [  3.   6.   9.  12.  15.  18.  21.  24.  27.  30.] : <type 'numpy.ndarray'>\n"
       ]
      }
     ],
     "prompt_number": 5
    },
    {
     "cell_type": "heading",
     "level": 2,
     "metadata": {},
     "source": [
      "Multidimensional NumPy Arrays"
     ]
    },
    {
     "cell_type": "markdown",
     "metadata": {},
     "source": [
      "A straightforward way to create __multidimensional__ `numpy.arrays` is to supply Python sequences of Python sequences to the `numpy.array` constructor. __List comprehensions__ can be used to simplify the generation of nested list structures."
     ]
    },
    {
     "cell_type": "code",
     "collapsed": false,
     "input": [
      "multiDimArray = numpy.array([ [i,2*j,3*k] for i in range(2) for j in range(2) for k in range(2)])\n",
      "print \"multiDimArray =>\", multiDimArray, \":\", type(multiDimArray)"
     ],
     "language": "python",
     "metadata": {},
     "outputs": [
      {
       "output_type": "stream",
       "stream": "stdout",
       "text": [
        "multiDimArray => [[0 0 0]\n",
        " [0 0 3]\n",
        " [0 2 0]\n",
        " [0 2 3]\n",
        " [1 0 0]\n",
        " [1 0 3]\n",
        " [1 2 0]\n",
        " [1 2 3]] : <type 'numpy.ndarray'>\n"
       ]
      }
     ],
     "prompt_number": 6
    },
    {
     "cell_type": "markdown",
     "metadata": {},
     "source": [
      "The __dimensionality__ of a `numpy.array` instance is stored in its __`ndim`__ member datum and the sizes of the dimensions are stored in the __`shape`__ member datum."
     ]
    },
    {
     "cell_type": "code",
     "collapsed": false,
     "input": [
      "print \"multiDimArray.ndim => \", multiDimArray.ndim, \":\", type(multiDimArray.ndim)\n",
      "print \"multiDimArray.shape => \", multiDimArray.shape, \":\", type(multiDimArray.shape)"
     ],
     "language": "python",
     "metadata": {},
     "outputs": [
      {
       "output_type": "stream",
       "stream": "stdout",
       "text": [
        "multiDimArray.ndim =>  2 : <type 'int'>\n",
        "multiDimArray.shape =>  (8, 3) : <type 'tuple'>\n"
       ]
      }
     ],
     "prompt_number": 7
    },
    {
     "cell_type": "heading",
     "level": 2,
     "metadata": {},
     "source": [
      "Slicing and Indexing Numpy Arrays"
     ]
    },
    {
     "cell_type": "heading",
     "level": 3,
     "metadata": {},
     "source": [
      "One-dimensional Arrays"
     ]
    },
    {
     "cell_type": "markdown",
     "metadata": {},
     "source": [
      "The syntax that is required to index and slice __one-dimensional__ `numpy.array`s is very similar to that which is required to index and slice the built-in Python `list` type. In fact the following example may seem __very__ familiar!"
     ]
    },
    {
     "cell_type": "code",
     "collapsed": false,
     "input": [
      "# Define wholePizza as a numpy.array modeling a pizza with alternately desireable slices!\n",
      "# NOTE that numpy.arrays need not contain numeric values as long as all elements have the\n",
      "# same type.\n",
      "wholePizza = numpy.array([\"pepperoni\", \"anchovies\", \"pepperoni\", \"anchovies\", \"pepperoni\"])\n",
      "\n",
      "# Extract the pepperoni slices from the pizza\n",
      "# RECALL that the expression between the square brackets should be interpreted as:\n",
      "# [startIndex:endIndex+1:stepSize]\n",
      "pizzaSlices = wholePizza[0:5:2]\n",
      "\n",
      "# Print the whole pizza and the slices with annotation\n",
      "print \"wholePizza => \", wholePizza, \":\", type(wholePizza)\n",
      "print \"pizzaSlices => \", pizzaSlices, \":\", type(pizzaSlices)"
     ],
     "language": "python",
     "metadata": {},
     "outputs": [
      {
       "output_type": "stream",
       "stream": "stdout",
       "text": [
        "wholePizza =>  ['pepperoni' 'anchovies' 'pepperoni' 'anchovies' 'pepperoni'] : <type 'numpy.ndarray'>\n",
        "pizzaSlices =>  ['pepperoni' 'pepperoni' 'pepperoni'] : <type 'numpy.ndarray'>\n"
       ]
      }
     ],
     "prompt_number": 8
    },
    {
     "cell_type": "heading",
     "level": 3,
     "metadata": {},
     "source": [
      "Multidimensional Arrays"
     ]
    },
    {
     "cell_type": "markdown",
     "metadata": {},
     "source": [
      "The syntax for indexing and slicing multidimensional arrays can __appear__ more complicated, however it is __so powerful__ that is is worth taking the time to properly understand it.\n",
      "\n",
      "* An element or __multidimensional__ slice of multidimensional `numpy.array` can be extracted using an analog of the simple indexing operator (`[]`) with a more complex expression enclosed within the square brackets. \n",
      "* The expression comprises a comma-separated list of subexpressions that use identical syntax to that required to index or slice a one dimensional array. \n",
      "* Successive, comma-separated subexpressions specify the indexing or slicing operation to be applied to successively nested dimensions of the `numpy.array`.\n",
      "* If the number of subexpressions that is supplied is less than the number of array dimensions, the dimensions without subexpressions are extracted in their entirety.\n",
      "* An intermediate dimension can be extracted in its entirety (and slicing expressions for more deeply nested dimensions can be supplied) by using an ellipsis token \"`...`\" as the slicing subexpression for that intermediate dimension.\n",
      "\n",
      "To extract a single element from a multidimensional `numpy.array`, supply a single index for each dimension of the array."
     ]
    },
    {
     "cell_type": "code",
     "collapsed": false,
     "input": [
      "# Print the previously initialized \"multiDimArray\" as a reminder\n",
      "print \"multiDimArray =>\", multiDimArray, \":\", type(multiDimArray)\n",
      "#\u00a0Extract a single element from \"multiDimArray\" that corresponds to the fifth index \n",
      "# in the first dimension and the second index in the second dimension.\n",
      "arrayElement = multiDimArray[5,2]\n",
      "\n",
      "print \"arrayElement => \", arrayElement, \":\", type(arrayElement)"
     ],
     "language": "python",
     "metadata": {},
     "outputs": [
      {
       "output_type": "stream",
       "stream": "stdout",
       "text": [
        "multiDimArray => [[0 0 0]\n",
        " [0 0 3]\n",
        " [0 2 0]\n",
        " [0 2 3]\n",
        " [1 0 0]\n",
        " [1 0 3]\n",
        " [1 2 0]\n",
        " [1 2 3]] : <type 'numpy.ndarray'>\n",
        "arrayElement =>  3 : <type 'numpy.int64'>\n"
       ]
      }
     ],
     "prompt_number": 9
    },
    {
     "cell_type": "markdown",
     "metadata": {},
     "source": [
      "__Multidimensional subarrays__ can be extracted using more complicated \"slicing\" subexpressions for some or all dimensions."
     ]
    },
    {
     "cell_type": "code",
     "collapsed": false,
     "input": [
      "# Extract a 2-dimensional slice from a 2-dimensional array. The syntax\n",
      "# specifies that elements corresponding to indices between 0 and 3 in \n",
      "# the first dimension (0:4) and indices between 1 and 2 in the second \n",
      "# dimension (1:3) should be extracted.\n",
      "multiDimSlice = multiDimArray[0:4, 1:3]\n",
      "print \"multiDimSlice => \", multiDimSlice, \":\", type(multiDimSlice)\n",
      "\n",
      "# Extract a sparsely sampled 2-dimensional subset of a 2-dimensional array. \n",
      "# The syntax specifies that elements corresponding to every second index in\n",
      "# the first dimension (::2) and indices between 1 and 2 in the second \n",
      "# dimension (1:3) should be extracted.\n",
      "multiDimSparseSlice = multiDimArray[::2, 1:3]\n",
      "print \"multiDimSparseSlice => \", multiDimSparseSlice, \":\", type(multiDimSparseSlice)"
     ],
     "language": "python",
     "metadata": {},
     "outputs": [
      {
       "output_type": "stream",
       "stream": "stdout",
       "text": [
        "multiDimSlice =>  [[0 0]\n",
        " [0 3]\n",
        " [2 0]\n",
        " [2 3]] : <type 'numpy.ndarray'>\n",
        "multiDimSparseSlice =>  [[0 0]\n",
        " [2 0]\n",
        " [0 0]\n",
        " [2 0]] : <type 'numpy.ndarray'>\n"
       ]
      }
     ],
     "prompt_number": 10
    },
    {
     "cell_type": "heading",
     "level": 3,
     "metadata": {},
     "source": [
      "More Information"
     ]
    },
    {
     "cell_type": "markdown",
     "metadata": {},
     "source": [
      "More information about indexing and slicing `numpy.array`s can be found in the [Indexing, Slicing and Iterating](http://wiki.scipy.org/Tentative_NumPy_Tutorial#head-864862d3f2bb4c32f04260fac61eb4ef34788c4c) section of the [NumPy Online Tutorial](http://wiki.scipy.org/Tentative_NumPy_Tutorial)."
     ]
    },
    {
     "cell_type": "heading",
     "level": 1,
     "metadata": {},
     "source": [
      "Matplotlib"
     ]
    },
    {
     "cell_type": "markdown",
     "metadata": {},
     "source": [
      "__Matplotlib__ is a feature-rich 2-dimensional plotting package for Python. Matplotlib can be used to generate __publication quality__ figures in a variety of hardcopy formats. It can also be used to plot and review your results at intermediate stages during data analysis."
     ]
    },
    {
     "cell_type": "heading",
     "level": 2,
     "metadata": {},
     "source": [
      "Initialization"
     ]
    },
    {
     "cell_type": "markdown",
     "metadata": {},
     "source": [
      "The __*IPython Notebook*__ interface includes special functionality that allows any plots that are generated using __Matplotlib__ to be displayed __inline__ in the web browser window. To enable this functionality an [IPython \"Magic\" Function](http://ipython.org/ipython-doc/dev/interactive/tutorial.html#magic-functions) must be invoked."
     ]
    },
    {
     "cell_type": "code",
     "collapsed": false,
     "input": [
      "%matplotlib inline"
     ],
     "language": "python",
     "metadata": {},
     "outputs": [],
     "prompt_number": 11
    },
    {
     "cell_type": "markdown",
     "metadata": {},
     "source": [
      "The functionality of Matplotlib is provided by the `matplotlib` module. Ususally it is sufficient to import the subset of this functionality that is provided by the `pyplot` submodule. `pyplot` aggregates useful features of Matplotlib package and exposes them using a MATLAB-like plotting framework."
     ]
    },
    {
     "cell_type": "code",
     "collapsed": false,
     "input": [
      "import matplotlib.pyplot as pyplot # save typing time by importing under an alias"
     ],
     "language": "python",
     "metadata": {},
     "outputs": [],
     "prompt_number": 12
    },
    {
     "cell_type": "markdown",
     "metadata": {},
     "source": [
      "The simplest possible usage of the `pyplot` interface involves invoking the `plot()` function that it provides and passing two __equal-length__ `list`s or `numpy.array`s that contain the x and y coordinates of several points to plot."
     ]
    },
    {
     "cell_type": "code",
     "collapsed": false,
     "input": [
      "# Use the numpy.arange(...) function to create a numpy array of\n",
      "# floating-point values between 0 and 10, in steps of 0.001.\n",
      "# This array will be used to provide the x-coordinates for the\n",
      "# points that are plotted.\n",
      "xValues = numpy.arange(0, 10, 0.001)\n",
      "\n",
      "# Create another numpy.array instance using the numpy.sinc(...) \n",
      "# function to compute the sinc of all the elements of the\n",
      "# xValues array.\n",
      "# This array will be used to provide the y-coordinates for the\n",
      "# points that are plotted.\n",
      "yValues = numpy.sinc(xValues)\n",
      "\n",
      "# Invoke the plot(...) function passing the x and y coordinate\n",
      "# arrays as arguments.\n",
      "# The plot(...) function returns an instance of the class that is\n",
      "# used to generate the plotted curve.\n",
      "# Capturing this return value by assigning it to the \"plottedLine\"\n",
      "# variable allows the properties of the line to be edited.\n",
      "plottedLine = pyplot.plot(xValues, yValues)"
     ],
     "language": "python",
     "metadata": {},
     "outputs": [
      {
       "metadata": {},
       "output_type": "display_data",
       "png": "[encoded data removed]",
       "text": [
        "<matplotlib.figure.Figure at 0x7f713bb68d90>"
       ]
      }
     ],
     "prompt_number": 13
    },
    {
     "cell_type": "heading",
     "level": 2,
     "metadata": {},
     "source": [
      "Modifying the Appearance of Plotted Curves"
     ]
    },
    {
     "cell_type": "markdown",
     "metadata": {},
     "source": [
      "The `plot()` function returns a reference to an instance of the [`matplotlib.lines.Line2D`](http://matplotlib.org/api/lines_api.html) class. This is the class instance that was used to generate the plotted curve. It can be used in combination with the `setp(...)` function that is provided by `pyplot` to modify the __appearance__ (and __interactivity__) of the curve.\n",
      "\n",
      "To modify the properties of the a plotted line, the first argument of the `setp(...)` function should be the instance of the [`matplotlib.lines.Line2D`](http://matplotlib.org/api/lines_api.html) class that was returned by the `plot()` function invocation used to plot it.\n",
      "\n",
      "Subsequent arguments are used to supply values for specific properties of the plotted curve and each argument consists of three separate tokens:\n",
      "\n",
      "1. An identifier that specifies the property to modify.\n",
      "2. An assignment operator token (\"`=`\").\n",
      "3. A value to which the specified property should be set.\n",
      "\n",
      "A list of valid properties is provided in the [Controlling Line Properties](http://matplotlib.org/users/pyplot_tutorial.html#controlling-line-properties) section of the [Online Pyplot Tutorial](http://matplotlib.org/users/pyplot_tutorial.html). The list can also be obtained by calling the `setp()` function with one or more instance(s) of the instance of the [`matplotlib.lines.Line2D`](http://matplotlib.org/api/lines_api.html) class as its argument(s)."
     ]
    },
    {
     "cell_type": "code",
     "collapsed": false,
     "input": [
      "# Replot the sinc curve - Unlike other variables, matplotlib figures\n",
      "# DO NOT persist between cells.\n",
      "plottedLine = pyplot.plot(xValues, yValues)\n",
      "\n",
      "# Print a list of settable options for \"plottedLine\"\n",
      "pyplot.setp(plottedLine)\n",
      "\n",
      "# Reset the color of the plotted curve\n",
      "setPError = pyplot.setp(plottedLine, color='r')\n",
      "\n",
      "# Reset the line style and the line width of the plotted curve\n",
      "setPError = pyplot.setp(plottedLine, linestyle='--', linewidth=3)"
     ],
     "language": "python",
     "metadata": {},
     "outputs": [
      {
       "output_type": "stream",
       "stream": "stdout",
       "text": [
        "  agg_filter: unknown\n",
        "  alpha: float (0.0 transparent through 1.0 opaque)         \n",
        "  animated: [True | False]         \n",
        "  antialiased or aa: [True | False]         \n",
        "  axes: an :class:`~matplotlib.axes.Axes` instance         \n",
        "  clip_box: a :class:`matplotlib.transforms.Bbox` instance         \n",
        "  clip_on: [True | False]         \n",
        "  clip_path: [ (:class:`~matplotlib.path.Path`,         :class:`~matplotlib.transforms.Transform`) |         :class:`~matplotlib.patches.Patch` | None ]         \n",
        "  color or c: any matplotlib color         \n",
        "  contains: a callable function         \n",
        "  dash_capstyle: ['butt' | 'round' | 'projecting']         \n",
        "  dash_joinstyle: ['miter' | 'round' | 'bevel']         \n",
        "  dashes: sequence of on/off ink in points         \n",
        "  drawstyle: ['default' | 'steps' | 'steps-pre' | 'steps-mid' |                   'steps-post']         \n",
        "  figure: a :class:`matplotlib.figure.Figure` instance         \n",
        "  fillstyle: ['full' | 'left' | 'right' | 'bottom' | 'top' | 'none']         \n",
        "  gid: an id string         \n",
        "  label: string or anything printable with '%s' conversion.         \n",
        "  linestyle or ls: [``'-'`` | ``'--'`` | ``'-.'`` | ``':'`` | ``'None'`` |                   ``' '`` | ``''``]         and any drawstyle in combination with a linestyle, e.g., ``'steps--'``.         \n",
        "  linewidth or lw: float value in points         \n",
        "  lod: [True | False]         \n",
        "  marker: unknown\n",
        "  markeredgecolor or mec: any matplotlib color         \n",
        "  markeredgewidth or mew: float value in points         \n",
        "  markerfacecolor or mfc: any matplotlib color         \n",
        "  markerfacecoloralt or mfcalt: any matplotlib color         \n",
        "  markersize or ms: float         \n",
        "  markevery: None | integer | (startind, stride)\n",
        "  path_effects: unknown\n",
        "  picker: float distance in points or callable pick function         ``fn(artist, event)``         \n",
        "  pickradius: float distance in points         \n",
        "  rasterized: [True | False | None]         \n",
        "  sketch_params: unknown\n",
        "  snap: unknown\n",
        "  solid_capstyle: ['butt' | 'round' |  'projecting']         \n",
        "  solid_joinstyle: ['miter' | 'round' | 'bevel']         \n",
        "  transform: a :class:`matplotlib.transforms.Transform` instance         \n",
        "  url: a url string         \n",
        "  visible: [True | False]         \n",
        "  xdata: 1D array         \n",
        "  ydata: 1D array         \n",
        "  zorder: any number         \n"
       ]
      },
      {
       "metadata": {},
       "output_type": "display_data",
       "png": "[encoded data removed]",
       "text": [
        "<matplotlib.figure.Figure at 0x7f71395a1b90>"
       ]
      }
     ],
     "prompt_number": 14
    },
    {
     "cell_type": "heading",
     "level": 2,
     "metadata": {},
     "source": [
      "Modifying Other Figure Properties"
     ]
    },
    {
     "cell_type": "markdown",
     "metadata": {},
     "source": [
      "As well as modifying the plotted curve itself, it is typically neccessary to cutomize other properties of the figure such as the __chart title__, __axis limits__ or __axis labels__. Such modifications are achieved by invoking functions provided by the `matplotlib.pyplot` module. [A full reference](http://matplotlib.org/api/pyplot_api.html#module-matplotlib.pyplot), listing __all__ the functions that are provided by `matplotlib.pyplot` is available online."
     ]
    },
    {
     "cell_type": "code",
     "collapsed": false,
     "input": [
      "# Replot the sinc curve\n",
      "plottedLine = pyplot.plot(xValues, yValues)\n",
      "\n",
      "# Use the ylabel(...) function provided by the pyplot module to set the\n",
      "# title for the Y-axis. The function argument is a string that will\n",
      "# be assigned to the title for the Y axis.  \n",
      "yLabelText = pyplot.ylabel('Y')\n",
      "\n",
      "# Use the xlabel(...) function provided by the pyplot module to set the\n",
      "# title for the X-axis. The function argument is a string that will\n",
      "# be assigned to the title for the X axis.  \n",
      "xLabelText = pyplot.xlabel('X')\n",
      "\n",
      "# Use the title(...) function provided by the pyplot module to set the\n",
      "# title for the whole chart. The function argument is a string that will\n",
      "# be assigned to the chart title.  \n",
      "titleText = pyplot.title('Y = sinc(X)')\n",
      "\n",
      "# Each of the title-setting functions return instances of the\n",
      "# matplotlib.text.Text type. These can be used to directly reposition\n",
      "# or reformat the titles.\n",
      "print \"yLabelText => \", yLabelText, \":\", type(yLabelText)\n",
      "print \"xLabelText => \", xLabelText, \":\", type(xLabelText)\n",
      "print \"titleText => \", titleText, \":\", type(titleText)"
     ],
     "language": "python",
     "metadata": {},
     "outputs": [
      {
       "output_type": "stream",
       "stream": "stdout",
       "text": [
        "yLabelText =>  Text(0,0.5,'Y') : <class 'matplotlib.text.Text'>\n",
        "xLabelText =>  Text(0.5,0,'X') : <class 'matplotlib.text.Text'>\n",
        "titleText =>  Text(0.5,1,'Y = sinc(X)') : <class 'matplotlib.text.Text'>\n"
       ]
      },
      {
       "metadata": {},
       "output_type": "display_data",
       "png": "[encoded data removed]",
       "text": [
        "<matplotlib.figure.Figure at 0x7f7139392650>"
       ]
      }
     ],
     "prompt_number": 15
    },
    {
     "cell_type": "heading",
     "level": 2,
     "metadata": {},
     "source": [
      "Specifying Plot Labels and Titles Using LaTeX "
     ]
    },
    {
     "cell_type": "markdown",
     "metadata": {},
     "source": [
      "The __titles__ and __labels__ of Matplotlib-generated figures may contain __complex mathematical expressions__ that can be specified using the __LaTeX__ type-setting syntax. \n",
      "\n",
      "To utilize this functionality, the string argument that is supplied to the title- or label-setting functions of `matplotlib.pyplot` must be prefixed by an `r` token and correspond to valid LaTeX __inline equation type-setting__ syntax i.e. LaTeX markup should be enclosed between `$` characters. The `r` prefix is used to specify that the function argument is a __*raw*__ string for which the backslash (\"`\\`\") characters that are essential to the LaTeX syntax will not be interpreted as escape characters. "
     ]
    },
    {
     "cell_type": "code",
     "collapsed": false,
     "input": [
      "# Replot the sinc curve\n",
      "plottedLine = pyplot.plot(xValues, yValues)\n",
      "\n",
      "# Use the ylabel(...) function provided by the pyplot module to set the\n",
      "# title for the Y-axis. The function argument is a raw string that will\n",
      "# be assigned to the title for the Y axis.  \n",
      "yLabelText = pyplot.ylabel(r'$y$')\n",
      "\n",
      "# Use the xlabel(...) function provided by the pyplot module to set the\n",
      "# title for the X-axis. The function argument is a raw string that will\n",
      "# be assigned to the title for the X axis.  \n",
      "xLabelText = pyplot.xlabel(r'$x$')\n",
      "\n",
      "# Use the title(...) function provided by the pyplot module to set the\n",
      "# title for the whole chart. The function argument is a string that will\n",
      "# be assigned to the chart title.  \n",
      "titleText = pyplot.title(r'$y = \\frac{\\sin(x)}{x}$')\n",
      "\n",
      "# Change the font sizes of the axis and chart titles using the \n",
      "# set_fontsize(...) method that is provided by the matplotlib.text.Text\n",
      "# class.\n",
      "titleText.set_fontsize(25)\n",
      "xLabelText.set_fontsize(25)\n",
      "yLabelText.set_fontsize(25)\n",
      "\n",
      "# Reposition the chart title using the set_y(...) method that is provided\n",
      "# by the matplotlib.text.Text class. To obtain the current y-position, \n",
      "# use the get_position() method provided by matplotlib.text.Text which returns a\n",
      "# two element tuple. The second element of the tuple corresponds to the \n",
      "# y-coordinate in inches. 0.05 inches is added to the current value.\n",
      "# COMMENT OUT THE STATEMENT AND RE-EXECUTE THE CELL TO SEE THE EFFECT!\n",
      "titleText.set_y(titleText.get_position()[1] + 0.05)\n"
     ],
     "language": "python",
     "metadata": {},
     "outputs": [
      {
       "metadata": {},
       "output_type": "display_data",
       "png": "[encoded data removed]",
       "text": [
        "<matplotlib.figure.Figure at 0x7f71395a1dd0>"
       ]
      }
     ],
     "prompt_number": 16
    },
    {
     "cell_type": "heading",
     "level": 2,
     "metadata": {},
     "source": [
      "More Elaborate Plot Types"
     ]
    },
    {
     "cell_type": "markdown",
     "metadata": {},
     "source": [
      "The `matplotlib.pyplot.plot()` function provides a simple interface to generate two-dimensional curves. In fact the `matplotlib.pyplot` module provides functions that produce substantially more complex plots. The subsequent example illustrates the interoperation between NumPy and Matplotlib to generate a `streamplot` that visualizes a 2-dimensional velocity field.\n"
     ]
    },
    {
     "cell_type": "code",
     "collapsed": false,
     "input": [
      "# Step 1\n",
      "Y, X = numpy.mgrid[-3:3:100j, -3:3:100j]\n",
      "# Step 2a\n",
      "U = -1 - X**2 + Y\n",
      "# Step 2b\n",
      "V = 1 + X - Y**2\n",
      "# Step 2c\n",
      "speed = numpy.sqrt(U*U + V*V)\n",
      "\n",
      "# Step 3\n",
      "streamPlot = pyplot.streamplot(X, Y, U, V, color=U, linewidth=speed/2, cmap=pyplot.cm.autumn)\n",
      "# Step 4\n",
      "colorBar = pyplot.colorbar()"
     ],
     "language": "python",
     "metadata": {},
     "outputs": [
      {
       "metadata": {},
       "output_type": "display_data",
       "png": "[encoded data removed]",
       "text": [
        "<matplotlib.figure.Figure at 0x7f7138707c10>"
       ]
      }
     ],
     "prompt_number": 25
    },
    {
     "cell_type": "heading",
     "level": 3,
     "metadata": {},
     "source": [
      "Code Breakdown"
     ]
    },
    {
     "cell_type": "markdown",
     "metadata": {},
     "source": [
      "* __Step 1:__ The `numpy` function `mgrid` is used to generate a densely populated 2-dimensional grid with 100 equally spaced points between -3 and 3 in the *x* and *y* dimensions. The `numpy.mgrid` function uses the *indexing* syntax to specify the mesh granularity in each (comma-separated) dimension. Specifying an __imaginary__ value for the \"step\" (third of the colon-separated tokens for each dimesnion) results in its __absolute__ value being interpreted as the __number__ of mesh points to generate and __not__ the separation between points. The \"start\" and \"stop\" tokens retain thier usual interpretations. See the `numpy.mgrid` [online reference](http://docs.scipy.org/doc/numpy/reference/generated/numpy.mgrid.html) for more details about the required syntax. The `mgrid` function returns a `tuple` containing one `numpy.array` (populated with the grid generated points) for each dimension. The elements of this `tuple` are assigned to the `X` and `Y` variables.\n",
      "\n",
      "* __Step 2:__ Steps 2a and 2b use `numpy`'s __array-wise mathematical operators__ to generate grids that are populated with *x* and *y* velocities that are computed using analytic functions of the *x* and *y* coordinates defined by the `X` and `Y` `numpy.arrays`. Step 2c computes the speed (length of the velocity vector) at each *x* and *y* coordinate defined by the `X` and `Y` `numpy.array`s using the a combination of `numpy`'s array-wise mathematical operators and `numpy`'s whole-array `sqrt(...)` function.\n",
      "\n",
      "* __Step 3:__ Step 3 invokes the streamplot function provided by `pyplot`, passing the coordinate and velocity `numpy.array`s as the first four arguments. The final three arguments control the plot formatting. Specifying `color=U` allows a user-specified colour map to be provided as the value of the `cmap` argument. In this case a built-in colour map (`pyplot.cm.autumn`) is specified, producing an \"autumnal\" theme (Execute `help(pyplot.cm)` and view the \"DATA\" section for information about available colour maps). Setting the value `linewidth` argument equal to half of the computed `speed` array results in larger absolute velocities in the field being visualized as thicker lines. See the [online reference](http://matplotlib.org/api/pyplot_api.html#matplotlib.pyplot.streamplot) for `pyplot.streamplot(...)` for more information about available options.\n",
      "\n",
      "* __Step 4:__ This step invokes the `pyplot.colorbar()` function, which adds a scale indicator that corresponds to the current colour map and the range of plotted values. See the [online reference](http://matplotlib.org/api/pyplot_api.html#matplotlib.pyplot.colorbar) for `pyplot.colorbar(...)` for more information about available options."
     ]
    },
    {
     "cell_type": "code",
     "collapsed": false,
     "input": [
      "help(pyplot.cm)"
     ],
     "language": "python",
     "metadata": {},
     "outputs": []
    }
   ],
   "metadata": {}
  }
 ]
}